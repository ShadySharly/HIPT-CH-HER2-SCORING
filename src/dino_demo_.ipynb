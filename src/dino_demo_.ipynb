{
 "cells": [
  {
   "cell_type": "code",
   "execution_count": null,
   "metadata": {},
   "outputs": [],
   "source": [
    "import torch \n",
    "import numpy as np\n",
    "import joblib\n",
    "import matplotlib.pyplot as plt \n",
    "import glob\n",
    "import umap\n",
    "from natsort import natsorted"
   ]
  },
  {
   "cell_type": "code",
   "execution_count": null,
   "metadata": {},
   "outputs": [],
   "source": [
    "tokens_path = glob.glob('./outputs/tokens*')\n",
    "labels_path = glob.glob('./outputs/trues*')\n",
    "tokens_path = natsorted(tokens_path)\n",
    "labels_path = natsorted(labels_path)"
   ]
  },
  {
   "cell_type": "code",
   "execution_count": null,
   "metadata": {},
   "outputs": [],
   "source": [
    "tokens_dict = {}\n",
    "labels_dict = {}\n",
    "for i, (tp, lp) in enumerate(zip(tokens_path, labels_path)):\n",
    "    tokens = joblib.load(tp)\n",
    "    labels = joblib.load(lp)\n",
    "    embedding = umap.UMAP(n_neighbors=10,\n",
    "                            min_dist=0.05,\n",
    "                            metric='correlation').fit_transform(tokens)\n",
    "    \n",
    "    tokens_dict[str(i)]= embedding\n",
    "    labels_dict[str(i)]= labels\n"
   ]
  },
  {
   "cell_type": "code",
   "execution_count": null,
   "metadata": {},
   "outputs": [],
   "source": [
    "\n",
    "import matplotlib.pyplot as plt\n",
    "from sklearn.cluster import BisectingKMeans, KMeans\n",
    "from sklearn.datasets import make_blobs\n",
    "\n",
    "n_clusters = 4\n",
    "random_state = 0\n",
    "cnt = 0 \n",
    "fig, axes = plt.subplots(2, 3, figsize= (12,8))\n",
    "for i in range(2):\n",
    "    for j in range(3):\n",
    "        X = tokens_dict[str(cnt)]\n",
    "        algo = KMeans(n_clusters=n_clusters, random_state=random_state, n_init=3)\n",
    "        algo.fit(X)\n",
    "        centers = algo.cluster_centers_\n",
    "        axes[i, j].scatter(X[:, 0], X[:, 1], s=10, c=algo.labels_)\n",
    "        axes[i, j].scatter(centers[:, 0], centers[:, 1], c=\"r\", s=20)\n",
    "        axes[i, j].set_title(f\"Epoch {cnt}\")\n",
    "        cnt+=1\n",
    "    "
   ]
  },
  {
   "cell_type": "code",
   "execution_count": null,
   "metadata": {},
   "outputs": [],
   "source": [
    "\n",
    "fig, axes = plt.subplots(2, 3, figsize= (12,8))\n",
    "cnt = 0 \n",
    "for i in range(2):\n",
    "    for j in range(3):\n",
    "        X = tokens_dict[str(cnt)]\n",
    "        Y = labels_dict[str(cnt)]\n",
    "        classes = np.unique(Y)\n",
    "        colors_arr = np.linspace(0, 1,  len(classes) , endpoint=True)\n",
    "        colors_cod = plt.cm.viridis(colors_arr)\n",
    "        for c, colors in zip(classes, colors_cod):\n",
    "            indexes = np.where(Y == c)[0]\n",
    "            axes[i, j].scatter(X[indexes, 0], X[indexes, 1], s=10, c=colors)\n",
    "            axes[i, j].set_title(f\"Epoch {cnt}\")\n",
    "            cnt+=1"
   ]
  }
 ],
 "metadata": {
  "kernelspec": {
   "display_name": "dino",
   "language": "python",
   "name": "python3"
  },
  "language_info": {
   "name": "python",
   "version": "3.8.19"
  }
 },
 "nbformat": 4,
 "nbformat_minor": 2
}
